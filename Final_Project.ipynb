{
  "nbformat": 4,
  "nbformat_minor": 0,
  "metadata": {
    "colab": {
      "name": "Final_Project.ipynb",
      "provenance": [],
      "mount_file_id": "1n5JNEbswCjH7MhPYlUCOR1AuqZTBRjBq",
      "authorship_tag": "ABX9TyMXZBOdEszM56o1a1f399Cr",
      "include_colab_link": true
    },
    "kernelspec": {
      "name": "python3",
      "display_name": "Python 3"
    },
    "accelerator": "GPU"
  },
  "cells": [
    {
      "cell_type": "markdown",
      "metadata": {
        "id": "view-in-github",
        "colab_type": "text"
      },
      "source": [
        "<a href=\"https://colab.research.google.com/github/banihal/Working_With_ML/blob/master/Final_Project.ipynb\" target=\"_parent\"><img src=\"https://colab.research.google.com/assets/colab-badge.svg\" alt=\"Open In Colab\"/></a>"
      ]
    },
    {
      "cell_type": "code",
      "metadata": {
        "id": "GQTx1xdxNB8k",
        "colab_type": "code",
        "colab": {
          "base_uri": "https://localhost:8080/",
          "height": 72
        },
        "outputId": "484f23fe-f28c-4134-eafc-0ba902a34ba7"
      },
      "source": [
        "import numpy as np # linear algebra\n",
        "import pandas as pd # data processing, CSV file I/O (e.g. pd.read_csv)\n",
        "import os\n",
        "import glob\n",
        "import matplotlib.pyplot \n",
        "import cv2\n",
        "print(os.listdir('../content/drive/My Drive/data'))\n",
        "from keras.utils import to_categorical\n",
        "from keras.models import load_model\n",
        "from keras.preprocessing.image import load_img,img_to_array,ImageDataGenerator"
      ],
      "execution_count": null,
      "outputs": [
        {
          "output_type": "stream",
          "text": [
            "['Scentless Mayweed', 'Common Chickweed', 'Maize', 'Common wheat', 'Sugar beet', 'Loose Silky-bent', 'Shepherds Purse', 'Small-flowered Cranesbill', 'Fat Hen', 'Cleavers', 'Charlock', 'Black-grass']\n"
          ],
          "name": "stdout"
        },
        {
          "output_type": "stream",
          "text": [
            "Using TensorFlow backend.\n"
          ],
          "name": "stderr"
        }
      ]
    },
    {
      "cell_type": "code",
      "metadata": {
        "id": "J9Lz2V3ZPfhq",
        "colab_type": "code",
        "colab": {}
      },
      "source": [
        "training_img = []\n",
        "label = []\n",
        "\n",
        "for dir_path in glob.glob('../content/drive/My Drive/data/*'):\n",
        "  image_label = dir_path.split('/')[-1]\n",
        "  for image_path in glob.glob(os.path.join(dir_path, '*.png')):\n",
        "    image = cv2.imread(image_path, cv2.IMREAD_COLOR)\n",
        "    image = cv2.resize(image, (64,64))\n",
        "    image = cv2.cvtColor(image,cv2.COLOR_RGB2BGR)\n",
        "    training_img.append(image)\n",
        "    label.append(image_label)\n",
        "\n",
        "training_img = np.array(training_img)"
      ],
      "execution_count": null,
      "outputs": []
    },
    {
      "cell_type": "code",
      "metadata": {
        "id": "qF55I-sMPhPs",
        "colab_type": "code",
        "colab": {
          "base_uri": "https://localhost:8080/",
          "height": 230
        },
        "outputId": "04cabbef-5307-448d-e7f1-04954923eea8"
      },
      "source": [
        "label_to_id = {v:k for k,v in enumerate(np.unique(label))}\n",
        "id_to_label = {v:k for k,v in label_to_id.items()}\n",
        "label_to_id"
      ],
      "execution_count": null,
      "outputs": [
        {
          "output_type": "execute_result",
          "data": {
            "text/plain": [
              "{'Black-grass': 0,\n",
              " 'Charlock': 1,\n",
              " 'Cleavers': 2,\n",
              " 'Common Chickweed': 3,\n",
              " 'Common wheat': 4,\n",
              " 'Fat Hen': 5,\n",
              " 'Loose Silky-bent': 6,\n",
              " 'Maize': 7,\n",
              " 'Scentless Mayweed': 8,\n",
              " 'Shepherds Purse': 9,\n",
              " 'Small-flowered Cranesbill': 10,\n",
              " 'Sugar beet': 11}"
            ]
          },
          "metadata": {
            "tags": []
          },
          "execution_count": 3
        }
      ]
    },
    {
      "cell_type": "code",
      "metadata": {
        "id": "uaFmXoNvfuNO",
        "colab_type": "code",
        "colab": {}
      },
      "source": [
        "training_label_id = np.array([label_to_id[x] for x in label])\n",
        "Y = np.array(training_label_id)\n",
        "Y = to_categorical(Y, num_classes = 12)"
      ],
      "execution_count": null,
      "outputs": []
    },
    {
      "cell_type": "code",
      "metadata": {
        "id": "rehwcNg8fxGJ",
        "colab_type": "code",
        "colab": {}
      },
      "source": [
        "from keras.models import Model\n",
        "from keras.layers.core import Dense,Dropout,Activation\n",
        "from keras.layers import Conv2D\n",
        "from keras.layers.pooling import AveragePooling2D,GlobalAveragePooling2D\n",
        "from keras.layers import Input,Concatenate\n",
        "from keras.layers.normalization import BatchNormalization\n",
        "from keras.regularizers import l2\n",
        "from keras.optimizers import RMSprop,Adamax\n",
        "import keras.backend as K\n",
        "from sklearn.model_selection import train_test_split\n",
        "from keras.callbacks import ModelCheckpoint, ReduceLROnPlateau,LearningRateScheduler,EarlyStopping"
      ],
      "execution_count": null,
      "outputs": []
    },
    {
      "cell_type": "code",
      "metadata": {
        "id": "hcQDFQ9ofxpM",
        "colab_type": "code",
        "colab": {}
      },
      "source": [
        "def conv_layer(x,concat_axis,nb_filter,dropout_rate=None,weight_decay=1E-4):\n",
        "    x = BatchNormalization(axis=concat_axis,\n",
        "                          gamma_regularizer=l2(weight_decay),\n",
        "                          beta_regularizer=l2(weight_decay))(x)\n",
        "    x = Activation('relu')(x)\n",
        "    x = Conv2D(nb_filter,(3,3),padding='same',kernel_regularizer=l2(weight_decay),use_bias=False)(x)\n",
        "    if dropout_rate:\n",
        "        x = Dropout(dropout_rate)(x)\n",
        "    return x"
      ],
      "execution_count": null,
      "outputs": []
    },
    {
      "cell_type": "code",
      "metadata": {
        "id": "zNIzFXULf4NR",
        "colab_type": "code",
        "colab": {}
      },
      "source": [
        "def transition_layer(x,concat_axis,nb_filter,dropout_rate=None,weight_decay=1E-4):\n",
        "    x = BatchNormalization(axis=concat_axis,\n",
        "                          gamma_regularizer=l2(weight_decay),\n",
        "                          beta_regularizer=l2(weight_decay))(x)\n",
        "    x = Activation('relu')(x)\n",
        "    x = Conv2D(nb_filter,(1,1),padding='same',kernel_regularizer=l2(weight_decay),use_bias=False)(x)\n",
        "    if dropout_rate:\n",
        "        x = Dropout(dropout_rate)(x)\n",
        "    x = AveragePooling2D((2,2),strides=(2,2))(x)\n",
        "    return x"
      ],
      "execution_count": null,
      "outputs": []
    },
    {
      "cell_type": "code",
      "metadata": {
        "id": "vdhXTgBjf63W",
        "colab_type": "code",
        "colab": {}
      },
      "source": [
        "def convolution_block(x, nb_channels, dropout_rate=None, bottleneck=False, weight_decay=1e-4):\n",
        "    \"\"\"\n",
        "    Creates a convolution block consisting of BN-ReLU-Conv.\n",
        "    Optional: bottleneck, dropout\n",
        "    \"\"\"\n",
        "    \n",
        "    # Bottleneck\n",
        "    if bottleneck:\n",
        "        bottleneckWidth = 4\n",
        "        x = BatchNormalization(gamma_regularizer=l2(weight_decay), beta_regularizer=l2(weight_decay))(x)\n",
        "        x = Activation('relu')(x)\n",
        "        x = Conv2D(nb_channels * bottleneckWidth, (1, 1), use_bias=False, kernel_regularizer=l2(weight_decay))(x)\n",
        "        # Dropout\n",
        "        if dropout_rate:\n",
        "            x = Dropout(dropout_rate)(x)\n",
        "    \n",
        "    # Standard (BN-ReLU-Conv)\n",
        "    x = BatchNormalization(gamma_regularizer=l2(weight_decay), beta_regularizer=l2(weight_decay))(x)\n",
        "    x = Activation('relu')(x)\n",
        "    x = Conv2D(nb_channels, (3, 3), padding='same', use_bias=False, kernel_regularizer=l2(weight_decay))(x)\n",
        "    \n",
        "    # Dropout\n",
        "    if dropout_rate:\n",
        "        x = Dropout(dropout_rate)(x)\n",
        "    \n",
        "    return x"
      ],
      "execution_count": null,
      "outputs": []
    },
    {
      "cell_type": "code",
      "metadata": {
        "id": "0OnRcP7tf9K_",
        "colab_type": "code",
        "colab": {}
      },
      "source": [
        "def DenseNet(input_shape=None, dense_blocks=3, dense_layers=-1, growth_rate=12, nb_classes=None, dropout_rate=None,\n",
        "             bottleneck=False, compression=1.0, weight_decay=1e-4, depth=40):\n",
        "    \"\"\"\n",
        "    Arguments:\n",
        "    input_shape  : shape of the input images. E.g. (28,28,1) for MNIST    \n",
        "    dense_blocks : amount of dense blocks that will be created (default: 3)    \n",
        "    dense_layers : number of layers in each dense block. You can also use a list for numbers of layers [2,4,3]\n",
        "                   or define only 2 to add 2 layers at all dense blocks. -1 means that dense_layers will be calculated\n",
        "                   by the given depth (default: -1)\n",
        "    growth_rate  : number of filters to add per dense block (default: 12)\n",
        "    nb_classes   : number of classes\n",
        "    dropout_rate : defines the dropout rate that is accomplished after each conv layer (except the first one).\n",
        "                   In the paper the authors recommend a dropout of 0.2 (default: None)\n",
        "    bottleneck   : (True / False) if true it will be added in convolution block (default: False)\n",
        "    compression  : reduce the number of feature-maps at transition layer. In the paper the authors recomment a compression\n",
        "                   of 0.5 (default: 1.0 - will have no compression effect)\n",
        "    weight_decay : weight decay of L2 regularization on weights (default: 1e-4)\n",
        "    depth        : number or layers (default: 40)\n",
        " \n",
        "    Returns:\n",
        "    Model        : A Keras model instance\n",
        "    \"\"\"\n",
        "    \n",
        "    if nb_classes==None:\n",
        "        raise Exception('Please define number of classes (e.g. num_classes=10). This is required for final softmax.')\n",
        "    \n",
        "    if compression <=0.0 or compression > 1.0:\n",
        "        raise Exception('Compression have to be a value between 0.0 and 1.0. If you set compression to 1.0 it will be turn off.')\n",
        "    \n",
        "    if type(dense_layers) is list:\n",
        "        if len(dense_layers) != dense_blocks:\n",
        "            raise AssertionError('Number of dense blocks have to be same length to specified layers')\n",
        "    elif dense_layers == -1:\n",
        "        if bottleneck:\n",
        "            dense_layers = (depth - (dense_blocks + 1))/dense_blocks // 2\n",
        "        else:\n",
        "            dense_layers = (depth - (dense_blocks + 1))//dense_blocks\n",
        "        dense_layers = [int(dense_layers) for _ in range(dense_blocks)]\n",
        "    else:\n",
        "        dense_layers = [int(dense_layers) for _ in range(dense_blocks)]\n",
        "\n",
        "    if K.common.image_dim_ordering() == \"th\":\n",
        "        concat_axis = 1\n",
        "    elif K.common.image_dim_ordering() == \"tf\":\n",
        "        concat_axis = -1\n",
        "        \n",
        "    img_input = Input(shape=input_shape)\n",
        "    nb_channels = growth_rate * 2\n",
        "\n",
        "    \n",
        "    print('Creating DenseNet')\n",
        "    print('#############################################')\n",
        "    print('Dense blocks: %s' % dense_blocks)\n",
        "    print('Layers per dense block: %s' % dense_layers)\n",
        "    print('#############################################')\n",
        "    \n",
        "    # Initial convolution layer\n",
        "    x = Conv2D(nb_channels, (3,3), padding='same',strides=(1,1),\n",
        "                      use_bias=False, kernel_regularizer=l2(weight_decay))(img_input)\n",
        "    \n",
        "    # Building dense blocks\n",
        "    for block in range(dense_blocks):\n",
        "        \n",
        "        # Add dense block\n",
        "        x, nb_channels = dense_block(x, dense_layers[block], nb_channels, growth_rate, dropout_rate, bottleneck, weight_decay)\n",
        "        \n",
        "        if block < dense_blocks - 1:  # if it's not the last dense block\n",
        "            # Add transition_block\n",
        "            x = transition_layer(x, nb_channels, dropout_rate, compression, weight_decay)\n",
        "            nb_channels = int(nb_channels * compression)\n",
        "    \n",
        "    x = BatchNormalization(gamma_regularizer=l2(weight_decay), beta_regularizer=l2(weight_decay))(x)\n",
        "    x = Activation('relu')(x)\n",
        "    x = GlobalAveragePooling2D()(x)\n",
        "    \n",
        "    x = Dense(nb_classes, activation='softmax', kernel_regularizer=l2(weight_decay), bias_regularizer=l2(weight_decay))(x)\n",
        "    \n",
        "    densenet = Model(inputs=[img_input], outputs=[x], name=\"DenseNet\")\n",
        "    \n",
        "    return densenet"
      ],
      "execution_count": null,
      "outputs": []
    },
    {
      "cell_type": "code",
      "metadata": {
        "id": "ZCiymQcJgAsw",
        "colab_type": "code",
        "colab": {}
      },
      "source": [
        "X_train, X_test, Y_train, Y_test = train_test_split(training_img, Y, test_size = 0.05)"
      ],
      "execution_count": null,
      "outputs": []
    },
    {
      "cell_type": "code",
      "metadata": {
        "id": "sP8_0qp5gDE4",
        "colab_type": "code",
        "colab": {}
      },
      "source": [
        "model =         Densenet(nb_classes=12,\n",
        "                          img_dim=(64,64,3),\n",
        "                          depth = 34,\n",
        "                          nb_dense_block = 6,\n",
        "                          growth_rate=12,\n",
        "                          nb_filter=32,\n",
        "                          dropout_rate=0.25,\n",
        "                          weight_decay=1E-4)"
      ],
      "execution_count": null,
      "outputs": []
    },
    {
      "cell_type": "code",
      "metadata": {
        "id": "ynzYDCHqgK6l",
        "colab_type": "code",
        "colab": {}
      },
      "source": [
        "model.compile(loss='categorical_crossentropy',\n",
        "              optimizer = Adamax(),\n",
        "              metrics=[\"accuracy\"])\n"
      ],
      "execution_count": null,
      "outputs": []
    },
    {
      "cell_type": "code",
      "metadata": {
        "id": "xqIp2_VVgTbb",
        "colab_type": "code",
        "colab": {
          "base_uri": "https://localhost:8080/",
          "height": 52
        },
        "outputId": "0ddd5e9b-3623-4d4d-8870-e184c080cb1a"
      },
      "source": [
        "model_filepath = 'model.h5'\n",
        "annealer = LearningRateScheduler(lambda x: 1e-3 * 0.9 ** x)\n",
        "lr_reduce = ReduceLROnPlateau(monitor='val_acc', factor=0.1, epsilon=1e-5, patience=2, verbose=1)\n",
        "msave = ModelCheckpoint(model_filepath, save_best_only=True)\n",
        "aug = ImageDataGenerator(rotation_range=180, width_shift_range=0.1, \\\n",
        "    height_shift_range=0.1, shear_range=0.2, zoom_range=0.2,\\\n",
        "    horizontal_flip=True, fill_mode=\"nearest\")"
      ],
      "execution_count": null,
      "outputs": [
        {
          "output_type": "stream",
          "text": [
            "/usr/local/lib/python3.6/dist-packages/keras/callbacks/callbacks.py:998: UserWarning: `epsilon` argument is deprecated and will be removed, use `min_delta` instead.\n",
            "  warnings.warn('`epsilon` argument is deprecated and '\n"
          ],
          "name": "stderr"
        }
      ]
    },
    {
      "cell_type": "code",
      "metadata": {
        "id": "jL_tpnjPgWGm",
        "colab_type": "code",
        "colab": {
          "base_uri": "https://localhost:8080/",
          "height": 1000
        },
        "outputId": "de50761f-9e50-4505-8e86-8ed456f15ed3"
      },
      "source": [
        "training = model.fit(aug.flow(X_train ,Y_train, batch_size=16),\n",
        "               validation_data = (X_test,Y_test),\n",
        "              epochs = 30,\n",
        "               callbacks=[lr_reduce,annealer,msave],\n",
        "               verbose = 1)"
      ],
      "execution_count": 55,
      "outputs": [
        {
          "output_type": "stream",
          "text": [
            "Epoch 1/30\n",
            "207/207 [==============================] - 109s 527ms/step - loss: 1.8107 - accuracy: 0.8614 - val_loss: 2.2519 - val_accuracy: 0.7429\n",
            "Epoch 2/30\n"
          ],
          "name": "stdout"
        },
        {
          "output_type": "stream",
          "text": [
            "/usr/local/lib/python3.6/dist-packages/keras/callbacks/callbacks.py:1042: RuntimeWarning: Reduce LR on plateau conditioned on metric `val_acc` which is not available. Available metrics are: val_loss,val_accuracy,loss,accuracy,lr\n",
            "  (self.monitor, ','.join(list(logs.keys()))), RuntimeWarning\n"
          ],
          "name": "stderr"
        },
        {
          "output_type": "stream",
          "text": [
            "207/207 [==============================] - 109s 528ms/step - loss: 1.7543 - accuracy: 0.8698 - val_loss: 2.2209 - val_accuracy: 0.7486\n",
            "Epoch 3/30\n",
            "207/207 [==============================] - 109s 528ms/step - loss: 1.6799 - accuracy: 0.8849 - val_loss: 2.1764 - val_accuracy: 0.7200\n",
            "Epoch 4/30\n",
            "207/207 [==============================] - 110s 529ms/step - loss: 1.6155 - accuracy: 0.9024 - val_loss: 2.0441 - val_accuracy: 0.7771\n",
            "Epoch 5/30\n",
            "207/207 [==============================] - 110s 530ms/step - loss: 1.5559 - accuracy: 0.9109 - val_loss: 1.6463 - val_accuracy: 0.8914\n",
            "Epoch 6/30\n",
            "207/207 [==============================] - 110s 529ms/step - loss: 1.5328 - accuracy: 0.9127 - val_loss: 1.6313 - val_accuracy: 0.9086\n",
            "Epoch 7/30\n",
            "207/207 [==============================] - 110s 529ms/step - loss: 1.4845 - accuracy: 0.9160 - val_loss: 1.4806 - val_accuracy: 0.9029\n",
            "Epoch 8/30\n",
            "207/207 [==============================] - 110s 529ms/step - loss: 1.4457 - accuracy: 0.9275 - val_loss: 1.5035 - val_accuracy: 0.9200\n",
            "Epoch 9/30\n",
            "207/207 [==============================] - 109s 529ms/step - loss: 1.4236 - accuracy: 0.9272 - val_loss: 1.4967 - val_accuracy: 0.9143\n",
            "Epoch 10/30\n",
            "207/207 [==============================] - 110s 530ms/step - loss: 1.3883 - accuracy: 0.9357 - val_loss: 1.5015 - val_accuracy: 0.9086\n",
            "Epoch 11/30\n",
            "207/207 [==============================] - 109s 528ms/step - loss: 1.3731 - accuracy: 0.9345 - val_loss: 1.4024 - val_accuracy: 0.9486\n",
            "Epoch 12/30\n",
            "207/207 [==============================] - 109s 524ms/step - loss: 1.3450 - accuracy: 0.9426 - val_loss: 1.4263 - val_accuracy: 0.9086\n",
            "Epoch 13/30\n",
            "207/207 [==============================] - 108s 520ms/step - loss: 1.3316 - accuracy: 0.9414 - val_loss: 1.4813 - val_accuracy: 0.9029\n",
            "Epoch 14/30\n",
            "207/207 [==============================] - 108s 521ms/step - loss: 1.3085 - accuracy: 0.9490 - val_loss: 1.3919 - val_accuracy: 0.9543\n",
            "Epoch 15/30\n",
            "207/207 [==============================] - 107s 518ms/step - loss: 1.3029 - accuracy: 0.9474 - val_loss: 1.3714 - val_accuracy: 0.9429\n",
            "Epoch 16/30\n",
            "207/207 [==============================] - 108s 520ms/step - loss: 1.2751 - accuracy: 0.9568 - val_loss: 1.3528 - val_accuracy: 0.9429\n",
            "Epoch 17/30\n",
            "207/207 [==============================] - 107s 519ms/step - loss: 1.2703 - accuracy: 0.9550 - val_loss: 1.3670 - val_accuracy: 0.9314\n",
            "Epoch 18/30\n",
            "207/207 [==============================] - 107s 518ms/step - loss: 1.2676 - accuracy: 0.9526 - val_loss: 1.3369 - val_accuracy: 0.9543\n",
            "Epoch 19/30\n",
            "207/207 [==============================] - 107s 519ms/step - loss: 1.2570 - accuracy: 0.9565 - val_loss: 1.3583 - val_accuracy: 0.9257\n",
            "Epoch 20/30\n",
            "207/207 [==============================] - 107s 517ms/step - loss: 1.2510 - accuracy: 0.9547 - val_loss: 1.3328 - val_accuracy: 0.9600\n",
            "Epoch 21/30\n",
            "207/207 [==============================] - 108s 520ms/step - loss: 1.2381 - accuracy: 0.9589 - val_loss: 1.3363 - val_accuracy: 0.9257\n",
            "Epoch 22/30\n",
            "207/207 [==============================] - 107s 519ms/step - loss: 1.2355 - accuracy: 0.9613 - val_loss: 1.3311 - val_accuracy: 0.9543\n",
            "Epoch 23/30\n",
            "207/207 [==============================] - 107s 517ms/step - loss: 1.2247 - accuracy: 0.9619 - val_loss: 1.3164 - val_accuracy: 0.9543\n",
            "Epoch 24/30\n",
            "207/207 [==============================] - 107s 517ms/step - loss: 1.2237 - accuracy: 0.9616 - val_loss: 1.3301 - val_accuracy: 0.9486\n",
            "Epoch 25/30\n",
            "207/207 [==============================] - 107s 517ms/step - loss: 1.2256 - accuracy: 0.9592 - val_loss: 1.3267 - val_accuracy: 0.9371\n",
            "Epoch 26/30\n",
            "207/207 [==============================] - 107s 518ms/step - loss: 1.2173 - accuracy: 0.9629 - val_loss: 1.3266 - val_accuracy: 0.9486\n",
            "Epoch 27/30\n",
            "207/207 [==============================] - 107s 518ms/step - loss: 1.2137 - accuracy: 0.9625 - val_loss: 1.3014 - val_accuracy: 0.9543\n",
            "Epoch 28/30\n",
            "207/207 [==============================] - 107s 518ms/step - loss: 1.2025 - accuracy: 0.9698 - val_loss: 1.3014 - val_accuracy: 0.9486\n",
            "Epoch 29/30\n",
            "207/207 [==============================] - 107s 519ms/step - loss: 1.2104 - accuracy: 0.9604 - val_loss: 1.3074 - val_accuracy: 0.9543\n",
            "Epoch 30/30\n",
            "207/207 [==============================] - 107s 517ms/step - loss: 1.2034 - accuracy: 0.9641 - val_loss: 1.3032 - val_accuracy: 0.9543\n"
          ],
          "name": "stdout"
        }
      ]
    },
    {
      "cell_type": "code",
      "metadata": {
        "id": "9Y3x3q5e7dgn",
        "colab_type": "code",
        "colab": {}
      },
      "source": [
        "model.save('model.h5')"
      ],
      "execution_count": 45,
      "outputs": []
    },
    {
      "cell_type": "code",
      "metadata": {
        "id": "c0Vf-23bNCK2",
        "colab_type": "code",
        "colab": {}
      },
      "source": [
        ""
      ],
      "execution_count": null,
      "outputs": []
    },
    {
      "cell_type": "code",
      "metadata": {
        "id": "Hue_xRSI7iCY",
        "colab_type": "code",
        "colab": {}
      },
      "source": [
        "!pip install -U -q PyDrive\n"
      ],
      "execution_count": null,
      "outputs": []
    },
    {
      "cell_type": "code",
      "metadata": {
        "id": "irxH9lDk7q3O",
        "colab_type": "code",
        "colab": {}
      },
      "source": [
        "from pydrive.auth import GoogleAuth\n",
        "from pydrive.drive import GoogleDrive \n",
        "from google.colab import auth \n",
        "from oauth2client.client import GoogleCredentials"
      ],
      "execution_count": 58,
      "outputs": []
    },
    {
      "cell_type": "code",
      "metadata": {
        "id": "iYvS_Smq-C9A",
        "colab_type": "code",
        "colab": {}
      },
      "source": [
        "auth.authenticate_user()"
      ],
      "execution_count": 59,
      "outputs": []
    },
    {
      "cell_type": "code",
      "metadata": {
        "id": "5FPQiLxO-F1u",
        "colab_type": "code",
        "colab": {}
      },
      "source": [
        "gauth = GoogleAuth()\n"
      ],
      "execution_count": 60,
      "outputs": []
    },
    {
      "cell_type": "code",
      "metadata": {
        "id": "GZ4Haxm1AZYy",
        "colab_type": "code",
        "colab": {}
      },
      "source": [
        "gauth.credentials = GoogleCredentials.get_application_default() \n",
        "drive = GoogleDrive(gauth)\n"
      ],
      "execution_count": 61,
      "outputs": []
    },
    {
      "cell_type": "code",
      "metadata": {
        "id": "lsYl65SUAo-7",
        "colab_type": "code",
        "colab": {}
      },
      "source": [
        "model.save('final_model.h5')\n",
        "model_file = drive.CreateFile({'title' : 'final_model.h5'})   \n",
        "model_file.SetContentFile('final_model.h5')         \n",
        "model_file.Upload()\n"
      ],
      "execution_count": 62,
      "outputs": []
    },
    {
      "cell_type": "code",
      "metadata": {
        "id": "V82DqJMIBLDa",
        "colab_type": "code",
        "colab": {
          "base_uri": "https://localhost:8080/",
          "height": 34
        },
        "outputId": "fb513e5e-ee99-4e79-daba-5b8af2ed4f70"
      },
      "source": [
        "drive.CreateFile({'id': model_file.get('id')})"
      ],
      "execution_count": 76,
      "outputs": [
        {
          "output_type": "execute_result",
          "data": {
            "text/plain": [
              "GoogleDriveFile({'id': '13mEkEMiLS-UPvAMDQMopZo8fUbAfS7CG'})"
            ]
          },
          "metadata": {
            "tags": []
          },
          "execution_count": 76
        }
      ]
    },
    {
      "cell_type": "code",
      "metadata": {
        "id": "RI_kCqWLBRRo",
        "colab_type": "code",
        "colab": {}
      },
      "source": [
        "last_weight_file = drive.CreateFile({'id': '13mEkEMiLS-UPvAMDQMopZo8fUbAfS7CG'}) \n",
        "last_weight_file.GetContentFile('final_model.mat')\n",
        "model.load_weights('final_model.mat')"
      ],
      "execution_count": 77,
      "outputs": []
    },
    {
      "cell_type": "code",
      "metadata": {
        "id": "8es4qBLsBhUd",
        "colab_type": "code",
        "colab": {
          "base_uri": "https://localhost:8080/",
          "height": 52
        },
        "outputId": "4aa06493-18f3-4117-c0b8-4b7f5a5ec73d"
      },
      "source": [
        "model.evaluate(X_test,\n",
        "               Y_test,\n",
        "               verbose = 1)"
      ],
      "execution_count": 82,
      "outputs": [
        {
          "output_type": "stream",
          "text": [
            "175/175 [==============================] - 3s 18ms/step\n"
          ],
          "name": "stdout"
        },
        {
          "output_type": "execute_result",
          "data": {
            "text/plain": [
              "[1.3031543547766549, 0.954285740852356]"
            ]
          },
          "metadata": {
            "tags": []
          },
          "execution_count": 82
        }
      ]
    },
    {
      "cell_type": "code",
      "metadata": {
        "id": "3wzOXwhvTlfa",
        "colab_type": "code",
        "colab": {
          "base_uri": "https://localhost:8080/",
          "height": 531
        },
        "outputId": "2d3650ef-8bc5-4bce-d291-ded85a25759a"
      },
      "source": [
        "import matplotlib.pyplot as plt\n",
        "plt.rcParams['figure.figsize'] = (8, 8)\n",
        "\n",
        "plt.plot(training.history['loss'], label=\"Loss\")\n",
        "plt.plot(training.history['val_loss'], label=\"Validation loss\")\n",
        "plt.title('%s: loss')\n",
        "plt.xlabel('Epoch')\n",
        "plt.ylabel('Loss')\n",
        "plt.legend()"
      ],
      "execution_count": 64,
      "outputs": [
        {
          "output_type": "execute_result",
          "data": {
            "text/plain": [
              "<matplotlib.legend.Legend at 0x7fd19169c7f0>"
            ]
          },
          "metadata": {
            "tags": []
          },
          "execution_count": 64
        },
        {
          "output_type": "display_data",
          "data": {
            "image/png": "[encoded data removed]",
            "text/plain": [
              "<Figure size 576x576 with 1 Axes>"
            ]
          },
          "metadata": {
            "tags": [],
            "needs_background": "light"
          }
        }
      ]
    },
    {
      "cell_type": "code",
      "metadata": {
        "id": "WG6azue0CH0r",
        "colab_type": "code",
        "colab": {
          "base_uri": "https://localhost:8080/",
          "height": 34
        },
        "outputId": "1ce0eb91-a2e4-4f16-fa7b-cc894cef3480"
      },
      "source": [
        "print(Y_test[20])"
      ],
      "execution_count": 66,
      "outputs": [
        {
          "output_type": "stream",
          "text": [
            "[0. 0. 0. 0. 0. 0. 0. 0. 0. 1. 0. 0.]\n"
          ],
          "name": "stdout"
        }
      ]
    },
    {
      "cell_type": "code",
      "metadata": {
        "id": "YIsTTH9aTKpf",
        "colab_type": "code",
        "colab": {}
      },
      "source": [
        "image = X_test[20].reshape(-1,64,64,3)"
      ],
      "execution_count": 73,
      "outputs": []
    },
    {
      "cell_type": "code",
      "metadata": {
        "id": "CbaEYHskROnm",
        "colab_type": "code",
        "colab": {}
      },
      "source": [
        "Y_prd = model.predict(image)"
      ],
      "execution_count": 74,
      "outputs": []
    },
    {
      "cell_type": "code",
      "metadata": {
        "id": "MIJZ2z8ZSFMX",
        "colab_type": "code",
        "colab": {
          "base_uri": "https://localhost:8080/",
          "height": 70
        },
        "outputId": "0f3af68b-e1cb-433d-d56d-42145bd22339"
      },
      "source": [
        "print(Y_test[20], Y_prd)"
      ],
      "execution_count": 75,
      "outputs": [
        {
          "output_type": "stream",
          "text": [
            "[0. 0. 0. 0. 0. 0. 0. 0. 0. 1. 0. 0.] [[1.4371522e-06 7.1355071e-06 1.0523975e-05 9.0702361e-04 7.5557196e-08\n",
            "  1.6465267e-04 3.2670494e-07 2.1268546e-05 5.9968075e-03 9.9287719e-01\n",
            "  9.2630426e-06 4.2493020e-06]]\n"
          ],
          "name": "stdout"
        }
      ]
    },
    {
      "cell_type": "code",
      "metadata": {
        "id": "eY1lVh7NUAfA",
        "colab_type": "code",
        "colab": {}
      },
      "source": [
        ""
      ],
      "execution_count": null,
      "outputs": []
    }
  ]
}