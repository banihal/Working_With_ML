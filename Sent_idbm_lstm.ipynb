{
 "cells": [
  {
   "cell_type": "code",
   "execution_count": 42,
   "metadata": {},
   "outputs": [],
   "source": [
    "import keras\n",
    "from keras.preprocessing import sequence\n",
    "from keras.models import Sequential\n",
    "from keras.layers import Dense, Embedding, LSTM\n",
    "from keras.preprocessing.text import Tokenizer\n",
    "from keras.datasets import imdb\n",
    "import numpy as np\n",
    "import pandas as pd\n",
    "from keras.utils.np_utils import to_categorical\n",
    "import re"
   ]
  },
  {
   "cell_type": "code",
   "execution_count": 3,
   "metadata": {},
   "outputs": [],
   "source": [
    "max_features = 20000\n",
    "maxlen = 80\n",
    "batch_size = 32"
   ]
  },
  {
   "cell_type": "code",
   "execution_count": 168,
   "metadata": {},
   "outputs": [],
   "source": [
    "(x_train,y_train), (x_test, y_test) = imdb.load_data(num_words = max_features) \n"
   ]
  },
  {
   "cell_type": "code",
   "execution_count": 5,
   "metadata": {},
   "outputs": [
    {
     "data": {
      "text/plain": [
       "'the'"
      ]
     },
     "execution_count": 5,
     "metadata": {},
     "output_type": "execute_result"
    }
   ],
   "source": [
    "word_index = imdb.get_word_index()\n",
    "index_word = {i: word for word, i in word_index.items()}\n",
    "index_word[1]"
   ]
  },
  {
   "cell_type": "code",
   "execution_count": 166,
   "metadata": {},
   "outputs": [
    {
     "name": "stdout",
     "output_type": "stream",
     "text": [
      "[' ', ' ', ' ', ' ', ' ', ' ', ' ', ' ', ' ', ' ', ' ', ' ', 'the', 'wonder', 'own', 'as', 'by', 'is', 'sequence', 'i', 'i', 'jars', 'roses', 'to', 'of', 'hollywood', 'br', 'of', 'down', 'shouting', 'getting', 'boring', 'of', 'ever', 'it', 'sadly', 'sadly', 'sadly', 'i', 'i', 'was', 'then', 'does', \"don't\", 'close', 'faint', 'after', 'one', 'carry', 'as', 'by', 'are', 'be', 'favourites', 'all', 'family', 'turn', 'in', 'does', 'as', 'three', 'part', 'in', 'another', 'some', 'to', 'be', 'probably', 'with', 'world', 'uncaring', 'her', 'an', 'have', 'faint', 'beginning', 'own', 'as', 'is', 'sequence']\n",
      "[[   0    0    0 ...   14    6  717]\n",
      " [1669  398  229 ...  125    4 3077]\n",
      " [ 687    2  203 ...    9   57  975]\n",
      " ...\n",
      " [   0    0    0 ...   21  846 5518]\n",
      " [   8   97   14 ... 2302    7  470]\n",
      " [ 718    2    9 ...   34 2005 2643]]\n"
     ]
    }
   ],
   "source": [
    "print([index_word.get(word, ' ') for word in x_test[0]])\n",
    "print(x_test)"
   ]
  },
  {
   "cell_type": "code",
   "execution_count": 236,
   "metadata": {},
   "outputs": [
    {
     "data": {
      "text/plain": [
       "25000"
      ]
     },
     "execution_count": 236,
     "metadata": {},
     "output_type": "execute_result"
    }
   ],
   "source": [
    "x_train = sequence.pad_sequences(x_train, maxlen = maxlen)\n",
    "x_test = sequence.pad_sequences(x_test, maxlen = maxlen)\n",
    "len(x_train)"
   ]
  },
  {
   "cell_type": "code",
   "execution_count": 237,
   "metadata": {},
   "outputs": [],
   "source": [
    "Model = Sequential()\n",
    "Model.add(Embedding(max_features, 128))\n",
    "Model.add(LSTM(128, dropout = 0.2, recurrent_dropout = 0.2))\n",
    "Model.add(Dense(1, activation = 'sigmoid'))"
   ]
  },
  {
   "cell_type": "code",
   "execution_count": 238,
   "metadata": {},
   "outputs": [],
   "source": [
    "Model.compile(loss = 'binary_crossentropy',\n",
    "             optimizer = 'adam',\n",
    "             metrics = ['accuracy'])"
   ]
  },
  {
   "cell_type": "code",
   "execution_count": 239,
   "metadata": {},
   "outputs": [
    {
     "name": "stdout",
     "output_type": "stream",
     "text": [
      "Train on 25000 samples, validate on 25000 samples\n",
      "Epoch 1/20\n",
      "25000/25000 [==============================] - 94s 4ms/step - loss: 0.4736 - acc: 0.7762 - val_loss: 0.3695 - val_acc: 0.8380\n",
      "Epoch 2/20\n",
      "25000/25000 [==============================] - 92s 4ms/step - loss: 0.2972 - acc: 0.8795 - val_loss: 0.3771 - val_acc: 0.8392\n",
      "Epoch 3/20\n",
      "25000/25000 [==============================] - 91s 4ms/step - loss: 0.2149 - acc: 0.9181 - val_loss: 0.4208 - val_acc: 0.8349\n",
      "Epoch 4/20\n",
      "25000/25000 [==============================] - 93s 4ms/step - loss: 0.1510 - acc: 0.9442 - val_loss: 0.4906 - val_acc: 0.8262\n",
      "Epoch 5/20\n",
      "25000/25000 [==============================] - 98s 4ms/step - loss: 0.1137 - acc: 0.9597 - val_loss: 0.5462 - val_acc: 0.8250\n",
      "Epoch 6/20\n",
      "25000/25000 [==============================] - 99s 4ms/step - loss: 0.0819 - acc: 0.9712 - val_loss: 0.6087 - val_acc: 0.8242\n",
      "Epoch 7/20\n",
      "25000/25000 [==============================] - 98s 4ms/step - loss: 0.0605 - acc: 0.9796 - val_loss: 0.7146 - val_acc: 0.8188\n",
      "Epoch 8/20\n",
      "25000/25000 [==============================] - 100s 4ms/step - loss: 0.0430 - acc: 0.9857 - val_loss: 0.7893 - val_acc: 0.8124\n",
      "Epoch 9/20\n",
      "25000/25000 [==============================] - 100s 4ms/step - loss: 0.0372 - acc: 0.9874 - val_loss: 0.8821 - val_acc: 0.8147\n",
      "Epoch 10/20\n",
      "25000/25000 [==============================] - 98s 4ms/step - loss: 0.0308 - acc: 0.9898 - val_loss: 0.8428 - val_acc: 0.8176\n",
      "Epoch 11/20\n",
      "25000/25000 [==============================] - 98s 4ms/step - loss: 0.0246 - acc: 0.9922 - val_loss: 0.8884 - val_acc: 0.8166\n",
      "Epoch 12/20\n",
      "25000/25000 [==============================] - 99s 4ms/step - loss: 0.0198 - acc: 0.9937 - val_loss: 0.9434 - val_acc: 0.8075\n",
      "Epoch 13/20\n",
      "25000/25000 [==============================] - 98s 4ms/step - loss: 0.0175 - acc: 0.9946 - val_loss: 1.0014 - val_acc: 0.8132\n",
      "Epoch 14/20\n",
      "25000/25000 [==============================] - 98s 4ms/step - loss: 0.0130 - acc: 0.9955 - val_loss: 1.0794 - val_acc: 0.8120\n",
      "Epoch 15/20\n",
      "25000/25000 [==============================] - 98s 4ms/step - loss: 0.0111 - acc: 0.9965 - val_loss: 1.0341 - val_acc: 0.8093\n",
      "Epoch 16/20\n",
      "25000/25000 [==============================] - 98s 4ms/step - loss: 0.0090 - acc: 0.9975 - val_loss: 1.1747 - val_acc: 0.8139\n",
      "Epoch 17/20\n",
      "25000/25000 [==============================] - 99s 4ms/step - loss: 0.0103 - acc: 0.9969 - val_loss: 1.1162 - val_acc: 0.8065\n",
      "Epoch 18/20\n",
      "25000/25000 [==============================] - 100s 4ms/step - loss: 0.0060 - acc: 0.9983 - val_loss: 1.1489 - val_acc: 0.8088\n",
      "Epoch 19/20\n",
      "25000/25000 [==============================] - 101s 4ms/step - loss: 0.0080 - acc: 0.9972 - val_loss: 1.1963 - val_acc: 0.8100\n",
      "Epoch 20/20\n",
      "25000/25000 [==============================] - 99s 4ms/step - loss: 0.0044 - acc: 0.9986 - val_loss: 1.4199 - val_acc: 0.8082\n"
     ]
    },
    {
     "data": {
      "text/plain": [
       "<keras.callbacks.History at 0x7f024c207f60>"
      ]
     },
     "execution_count": 239,
     "metadata": {},
     "output_type": "execute_result"
    }
   ],
   "source": [
    "Model.fit(x_train, y_train,\n",
    "         batch_size = batch_size,\n",
    "         epochs = 20,\n",
    "         validation_data = (x_test, y_test))"
   ]
  },
  {
   "cell_type": "code",
   "execution_count": 240,
   "metadata": {},
   "outputs": [
    {
     "name": "stdout",
     "output_type": "stream",
     "text": [
      "_________________________________________________________________\n",
      "Layer (type)                 Output Shape              Param #   \n",
      "=================================================================\n",
      "embedding_4 (Embedding)      (None, None, 128)         2560000   \n",
      "_________________________________________________________________\n",
      "lstm_4 (LSTM)                (None, 128)               131584    \n",
      "_________________________________________________________________\n",
      "dense_4 (Dense)              (None, 1)                 129       \n",
      "=================================================================\n",
      "Total params: 2,691,713\n",
      "Trainable params: 2,691,713\n",
      "Non-trainable params: 0\n",
      "_________________________________________________________________\n"
     ]
    }
   ],
   "source": [
    "Model.summary()"
   ]
  },
  {
   "cell_type": "code",
   "execution_count": 151,
   "metadata": {},
   "outputs": [
    {
     "name": "stdout",
     "output_type": "stream",
     "text": [
      "25000/25000 [==============================] - 11s 443us/step\n"
     ]
    }
   ],
   "source": [
    "score, accur = Model.evaluate(x_test, y_test, batch_size)"
   ]
  },
  {
   "cell_type": "code",
   "execution_count": 152,
   "metadata": {},
   "outputs": [
    {
     "name": "stdout",
     "output_type": "stream",
     "text": [
      "score 0.5527440076255798\n",
      "accuracy 0.71152\n"
     ]
    }
   ],
   "source": [
    "print(\"score\", score)\n",
    "print(\"accuracy\", accur)"
   ]
  },
  {
   "cell_type": "code",
   "execution_count": null,
   "metadata": {},
   "outputs": [],
   "source": [
    "word_index = imdb.get_word_index()"
   ]
  },
  {
   "cell_type": "code",
   "execution_count": 230,
   "metadata": {},
   "outputs": [
    {
     "data": {
      "text/plain": [
       "[['nice', 'movie']]"
      ]
     },
     "execution_count": 230,
     "metadata": {},
     "output_type": "execute_result"
    }
   ],
   "source": [
    "words = 'nice movie'\n",
    "words = [words.split()]\n",
    "words"
   ]
  },
  {
   "cell_type": "code",
   "execution_count": 231,
   "metadata": {},
   "outputs": [],
   "source": [
    "reveiw = []\n",
    "for word in words:\n",
    "    wo = []\n",
    "    for n in word:\n",
    "        if n in word_index:\n",
    "            wo.append(word_index[n])\n",
    "        else:\n",
    "            wo.append(0)\n",
    "    reveiw.append(wo)\n",
    "    "
   ]
  },
  {
   "cell_type": "code",
   "execution_count": 232,
   "metadata": {},
   "outputs": [
    {
     "data": {
      "text/plain": [
       "array([[  0,   0,   0,   0,   0,   0,   0,   0,   0,   0,   0,   0,   0,\n",
       "          0,   0,   0,   0,   0,   0,   0,   0,   0,   0,   0,   0,   0,\n",
       "          0,   0,   0,   0,   0,   0,   0,   0,   0,   0,   0,   0,   0,\n",
       "          0,   0,   0,   0,   0,   0,   0,   0,   0,   0,   0,   0,   0,\n",
       "          0,   0,   0,   0,   0,   0,   0,   0,   0,   0,   0,   0,   0,\n",
       "          0,   0,   0,   0,   0,   0,   0,   0,   0,   0,   0,   0,   0,\n",
       "        324,  17]], dtype=int32)"
      ]
     },
     "execution_count": 232,
     "metadata": {},
     "output_type": "execute_result"
    }
   ],
   "source": [
    "words = sequence.pad_sequences(reveiw, maxlen=80)\n",
    "words"
   ]
  },
  {
   "cell_type": "code",
   "execution_count": 233,
   "metadata": {},
   "outputs": [
    {
     "data": {
      "text/plain": [
       "array([[0.9212638]], dtype=float32)"
      ]
     },
     "execution_count": 233,
     "metadata": {},
     "output_type": "execute_result"
    }
   ],
   "source": [
    "predictions = Model.predict(words, batch_size = None)\n",
    "predictions"
   ]
  },
  {
   "cell_type": "code",
   "execution_count": null,
   "metadata": {},
   "outputs": [],
   "source": []
  }
 ],
 "metadata": {
  "kernelspec": {
   "display_name": "Python 3",
   "language": "python",
   "name": "python3"
  },
  "language_info": {
   "codemirror_mode": {
    "name": "ipython",
    "version": 3
   },
   "file_extension": ".py",
   "mimetype": "text/x-python",
   "name": "python",
   "nbconvert_exporter": "python",
   "pygments_lexer": "ipython3",
   "version": "3.6.7"
  }
 },
 "nbformat": 4,
 "nbformat_minor": 2
}
